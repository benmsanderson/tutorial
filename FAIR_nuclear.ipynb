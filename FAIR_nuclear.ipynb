{
  "cells": [
    {
      "cell_type": "markdown",
      "metadata": {
        "id": "view-in-github",
        "colab_type": "text"
      },
      "source": [
        "<a href=\"https://colab.research.google.com/github/benmsanderson/tutorial/blob/main/FAIR_nuclear.ipynb\" target=\"_parent\"><img src=\"https://colab.research.google.com/assets/colab-badge.svg\" alt=\"Open In Colab\"/></a>"
      ]
    },
    {
      "cell_type": "code",
      "execution_count": null,
      "metadata": {
        "id": "nEtwp3br3Gpu"
      },
      "outputs": [],
      "source": [
        "%matplotlib inline"
      ]
    },
    {
      "cell_type": "code",
      "execution_count": null,
      "metadata": {
        "id": "ijrL9O6W3Gpv"
      },
      "outputs": [],
      "source": [
        "!pip install fair\n",
        "import fair"
      ]
    },
    {
      "cell_type": "code",
      "execution_count": null,
      "metadata": {
        "id": "wJxE51b83Gpv"
      },
      "outputs": [],
      "source": [
        "import numpy as np\n",
        "from scipy import stats\n",
        "from fair.tools.ensemble import tcrecs_generate\n",
        "\n",
        "from matplotlib import pyplot as plt\n",
        "plt.style.use('seaborn-muted')\n",
        "plt.rcParams['figure.figsize'] = (16, 9)"
      ]
    },
    {
      "cell_type": "code",
      "execution_count": null,
      "metadata": {
        "id": "xarbiWyd3kNK"
      },
      "outputs": [],
      "source": [
        "from fair.RCPs import rcp3pd, rcp45, rcp6, rcp85\n",
        "from fair.SSPs import ssp370, ssp126, ssp585, ssp119"
      ]
    },
    {
      "cell_type": "markdown",
      "metadata": {
        "id": "bo1EEIn8Gc9r"
      },
      "source": [
        "# Let's start with some standard simulations"
      ]
    },
    {
      "cell_type": "code",
      "execution_count": null,
      "metadata": {
        "id": "ffo1Iu33Gc9u"
      },
      "outputs": [],
      "source": [
        "\n",
        "fig = plt.figure(figsize=(12, 11))\n",
        "ax1 = fig.add_subplot(221)\n",
        "ax2 = fig.add_subplot(222)\n",
        "ax3 = fig.add_subplot(223)\n",
        "ax4 = fig.add_subplot(224)\n",
        "#conventional SSP-RCPs\n",
        "C26, F26, T26 = fair.forward.fair_scm(emissions=ssp126.Emissions.emissions)\n",
        "ax1.plot(rcp3pd.Emissions.year, ssp126.Emissions.co2_fossil, color='green', label='SSP126')\n",
        "ax2.plot(rcp3pd.Emissions.year, C26[:, 0], color='green')\n",
        "ax3.plot(rcp3pd.Emissions.year, np.sum(F26, axis=1), color='green')\n",
        "ax4.plot(rcp3pd.Emissions.year, T26, color='green')\n",
        "\n",
        "C37, F37, T37 = fair.forward.fair_scm(emissions=ssp370.Emissions.emissions)\n",
        "ax1.plot(rcp3pd.Emissions.year, ssp370.Emissions.co2_fossil, color='black', label='SSP370')\n",
        "ax2.plot(rcp3pd.Emissions.year, C37[:, 0], color='black')\n",
        "ax3.plot(rcp3pd.Emissions.year, np.sum(F37, axis=1), color='black')\n",
        "ax4.plot(rcp3pd.Emissions.year, T37, color='black')\n",
        "\n",
        "C37g0, F37g0, T37g0 = fair.forward.fair_scm(emissions=np.sum(ssp370.Emissions.emissions[:,1:3],axis=1),other_rf=np.sum(F37[:,1:], axis=1),\n",
        "    useMultigas=False)\n",
        "ax1.plot(rcp3pd.Emissions.year, ssp370.Emissions.co2_fossil, color='y', label='SSP370_10G')\n",
        "ax2.plot(rcp3pd.Emissions.year, C37g0, color='y',linestyle=':')\n",
        "ax3.plot(rcp3pd.Emissions.year, F37g0, color='y',linestyle=':')\n",
        "ax4.plot(rcp3pd.Emissions.year, T37g0, color='y',linestyle=':')\n",
        "\n",
        "\n",
        "\n",
        "ax1.set_ylabel('Fossil CO$_2$ Emissions (GtC)')\n",
        "ax1.legend()\n",
        "ax2.set_ylabel('CO$_2$ concentrations (ppm)')\n",
        "ax3.set_ylabel('Total radiative forcing (W.m$^{-2}$)')\n",
        "ax4.set_ylabel('Temperature anomaly (K)');\n",
        "ax1.set_xlim(1850,2100)\n",
        "ax2.set_xlim(1850,2100)\n",
        "ax3.set_xlim(1850,2100)\n",
        "ax4.set_xlim(1850,2100)\n",
        "\n"
      ]
    },
    {
      "cell_type": "markdown",
      "metadata": {
        "id": "Lxvb562nGc9x"
      },
      "source": [
        "For the nuclear simulations, let's define a decaying radiative pulse"
      ]
    },
    {
      "cell_type": "code",
      "execution_count": null,
      "metadata": {
        "id": "Mel-RWvn-XJm"
      },
      "outputs": [],
      "source": [
        "#function to simulate nuclear pulse given initial forcing level and decay time\n",
        "def nfn(a,t):\n",
        "  ans=ssp370.Emissions.emissions[:,1]*0\n",
        "  ans[257:307]=-a*np.exp(-np.arange(1,51,1)/t)\n",
        "  return ans"
      ]
    },
    {
      "cell_type": "code",
      "execution_count": null,
      "metadata": {
        "id": "U9mw5d7HlG9v"
      },
      "outputs": [],
      "source": [
        "plt.plot(nfn(60,5))"
      ]
    },
    {
      "cell_type": "code",
      "execution_count": null,
      "metadata": {
        "id": "OAWpRMvx3Gpz"
      },
      "outputs": [],
      "source": [
        "\n",
        "fig = plt.figure(figsize=(12, 11))\n",
        "ax1 = fig.add_subplot(221)\n",
        "ax2 = fig.add_subplot(222)\n",
        "ax3 = fig.add_subplot(223)\n",
        "ax4 = fig.add_subplot(224)\n",
        "#conventional SSP-RCPs\n",
        "C26, F26, T26 = fair.forward.fair_scm(emissions=ssp126.Emissions.emissions)\n",
        "ax1.plot(rcp3pd.Emissions.year, ssp126.Emissions.co2_fossil, color='green', label='SSP126')\n",
        "ax2.plot(rcp3pd.Emissions.year, C26[:, 0], color='green')\n",
        "ax3.plot(rcp3pd.Emissions.year, np.sum(F26, axis=1), color='green')\n",
        "ax4.plot(rcp3pd.Emissions.year, T26, color='green')\n",
        "\n",
        "C37, F37, T37 = fair.forward.fair_scm(emissions=ssp370.Emissions.emissions)\n",
        "ax1.plot(rcp3pd.Emissions.year, ssp370.Emissions.co2_fossil, color='black', label='SSP370')\n",
        "ax2.plot(rcp3pd.Emissions.year, C37[:, 0], color='black')\n",
        "ax3.plot(rcp3pd.Emissions.year, np.sum(F37, axis=1), color='black')\n",
        "ax4.plot(rcp3pd.Emissions.year, T37, color='black')\n",
        "\n",
        "C37g0, F37g0, T37g0 = fair.forward.fair_scm(emissions=np.sum(ssp370.Emissions.emissions[:,1:3],axis=1),other_rf=np.sum(F37[:,1:], axis=1),\n",
        "    useMultigas=False)\n",
        "ax1.plot(rcp3pd.Emissions.year, ssp370.Emissions.co2_fossil, color='y', label='SSP370_10G')\n",
        "ax2.plot(rcp3pd.Emissions.year, C37g0, color='y',linestyle=':')\n",
        "ax3.plot(rcp3pd.Emissions.year, F37g0, color='y',linestyle=':')\n",
        "ax4.plot(rcp3pd.Emissions.year, T37g0, color='y',linestyle=':')\n",
        "\n",
        "#for the nuclear simulations, we run with Mutligas off.  nonco2 radiative forcing from the baseline case is used, in addition to the nuclear pulse in the other_rf term\n",
        "#the following forcings were munually adjusted to 65 and 30Wm^-2 to match the 2 and 8k cooling seen in Robock 2007\n",
        "\n",
        "C37g150, F37g150, T37g150 = fair.forward.fair_scm(emissions=np.sum(ssp370.Emissions.emissions[:,1:3],axis=1),other_rf=nfn(65,5)+np.sum(F37[:,1:], axis=1),\n",
        "    useMultigas=False)\n",
        "ax1.plot(rcp3pd.Emissions.year, ssp370.Emissions.co2_fossil, color='darkred', label='SSP370_150')\n",
        "ax2.plot(rcp3pd.Emissions.year, C37g150, color='darkred')\n",
        "ax3.plot(rcp3pd.Emissions.year, F37g150, color='darkred')\n",
        "ax4.plot(rcp3pd.Emissions.year, T37g150, color='darkred')\n",
        "\n",
        "\n",
        "C37g50, F37g50, T37g50 = fair.forward.fair_scm(emissions=np.sum(ssp370.Emissions.emissions[:,1:3],axis=1),other_rf=nfn(30,5)+np.sum(F37[:,1:], axis=1),\n",
        "    useMultigas=False)\n",
        "ax1.plot(rcp3pd.Emissions.year, ssp370.Emissions.co2_fossil, color='darkred', label='SSP370_50')\n",
        "ax2.plot(rcp3pd.Emissions.year, C37g50, color='darkred')\n",
        "ax3.plot(rcp3pd.Emissions.year, F37g50, color='darkred')\n",
        "ax4.plot(rcp3pd.Emissions.year, T37g50, color='darkred')\n",
        "\n",
        "#this is the response to 140Wm^-2 - the 90th percentile of the distribution calculated below\n",
        "C37g300, F37g300, T37g300 = fair.forward.fair_scm(emissions=np.sum(ssp370.Emissions.emissions[:,1:3],axis=1),other_rf=nfn(140,5)+np.sum(F37[:,1:], axis=1),\n",
        "    useMultigas=False)\n",
        "ax1.plot(rcp3pd.Emissions.year, ssp370.Emissions.co2_fossil, color='darkred', label='SSP370_5')\n",
        "ax2.plot(rcp3pd.Emissions.year, C37g300, color='darkred')\n",
        "ax3.plot(rcp3pd.Emissions.year, F37g300, color='darkred')\n",
        "ax4.plot(rcp3pd.Emissions.year, T37g300, color='darkred')\n",
        "\n",
        "#this is for the smaller event\n",
        "C37g5, F37g5, T37g5 = fair.forward.fair_scm(emissions=np.sum(ssp370.Emissions.emissions[:,1:3],axis=1),other_rf=nfn(13,5)+np.sum(F37[:,1:], axis=1),\n",
        "    useMultigas=False)\n",
        "ax1.plot(rcp3pd.Emissions.year, ssp370.Emissions.co2_fossil, color='g', label='SSP370_5')\n",
        "ax2.plot(rcp3pd.Emissions.year, C37g5, color='green')\n",
        "ax3.plot(rcp3pd.Emissions.year, F37g5, color='g')\n",
        "ax4.plot(rcp3pd.Emissions.year, T37g5, color='g')\n",
        "\n",
        "#this is for the smaller event\n",
        "C37g6, F37g6, T37g6 = fair.forward.fair_scm(emissions=np.sum(ssp370.Emissions.emissions[:,1:3],axis=1),other_rf=nfn(16.5,5)+np.sum(F37[:,1:], axis=1),\n",
        "    useMultigas=False)\n",
        "ax1.plot(rcp3pd.Emissions.year, ssp370.Emissions.co2_fossil, color='g', label='SSP370_5')\n",
        "ax2.plot(rcp3pd.Emissions.year, C37g6, color='green')\n",
        "ax3.plot(rcp3pd.Emissions.year, F37g6, color='g')\n",
        "ax4.plot(rcp3pd.Emissions.year, T37g6, color='g')\n",
        "\n",
        "\n",
        "\n",
        "\n",
        "ax1.set_ylabel('Fossil CO$_2$ Emissions (GtC)')\n",
        "ax1.legend()\n",
        "ax2.set_ylabel('CO$_2$ concentrations (ppm)')\n",
        "ax3.set_ylabel('Total radiative forcing (W.m$^{-2}$)')\n",
        "ax4.set_ylabel('Temperature anomaly (K)');\n",
        "ax1.set_xlim(1850,2100)\n",
        "ax2.set_xlim(1850,2100)\n",
        "ax3.set_xlim(1850,2100)\n",
        "ax4.set_xlim(1850,2100)\n",
        "\n"
      ]
    }
  ],
  "metadata": {
    "colab": {
      "name": "FAIR nuclear.ipynb",
      "provenance": [],
      "include_colab_link": true
    },
    "kernelspec": {
      "display_name": "Python 3 (ipykernel)",
      "language": "python",
      "name": "python3"
    },
    "language_info": {
      "codemirror_mode": {
        "name": "ipython",
        "version": 3
      },
      "file_extension": ".py",
      "mimetype": "text/x-python",
      "name": "python",
      "nbconvert_exporter": "python",
      "pygments_lexer": "ipython3",
      "version": "3.9.12"
    }
  },
  "nbformat": 4,
  "nbformat_minor": 0
}