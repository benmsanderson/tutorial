{
  "cells": [
    {
      "cell_type": "markdown",
      "metadata": {
        "id": "view-in-github",
        "colab_type": "text"
      },
      "source": [
        "<a href=\"https://colab.research.google.com/github/benmsanderson/tutorial/blob/main/FAIR_nuclear.ipynb\" target=\"_parent\"><img src=\"https://colab.research.google.com/assets/colab-badge.svg\" alt=\"Open In Colab\"/></a>"
      ]
    },
    {
      "cell_type": "code",
      "execution_count": null,
      "metadata": {
        "id": "nEtwp3br3Gpu"
      },
      "outputs": [],
      "source": [
        "%matplotlib inline"
      ]
    },
    {
      "cell_type": "code",
      "execution_count": null,
      "metadata": {
        "id": "ijrL9O6W3Gpv",
        "colab": {
          "base_uri": "https://localhost:8080/"
        },
        "outputId": "9a7270a1-7aaa-4644-a071-4a63473e50a7"
      },
      "outputs": [
        {
          "output_type": "stream",
          "name": "stdout",
          "text": [
            "Collecting fair\n",
            "  Downloading fair-1.6.4-py3-none-any.whl (3.4 MB)\n",
            "\u001b[K     |████████████████████████████████| 3.4 MB 9.0 MB/s \n",
            "\u001b[?25hRequirement already satisfied: numpy>=1.14.5 in /usr/local/lib/python3.7/dist-packages (from fair) (1.21.6)\n",
            "Requirement already satisfied: scipy>=0.19.0 in /usr/local/lib/python3.7/dist-packages (from fair) (1.4.1)\n",
            "Requirement already satisfied: pandas in /usr/local/lib/python3.7/dist-packages (from fair) (1.3.5)\n",
            "Requirement already satisfied: matplotlib in /usr/local/lib/python3.7/dist-packages (from fair) (3.2.2)\n",
            "Requirement already satisfied: cycler>=0.10 in /usr/local/lib/python3.7/dist-packages (from matplotlib->fair) (0.11.0)\n",
            "Requirement already satisfied: pyparsing!=2.0.4,!=2.1.2,!=2.1.6,>=2.0.1 in /usr/local/lib/python3.7/dist-packages (from matplotlib->fair) (3.0.8)\n",
            "Requirement already satisfied: kiwisolver>=1.0.1 in /usr/local/lib/python3.7/dist-packages (from matplotlib->fair) (1.4.2)\n",
            "Requirement already satisfied: python-dateutil>=2.1 in /usr/local/lib/python3.7/dist-packages (from matplotlib->fair) (2.8.2)\n",
            "Requirement already satisfied: typing-extensions in /usr/local/lib/python3.7/dist-packages (from kiwisolver>=1.0.1->matplotlib->fair) (4.1.1)\n",
            "Requirement already satisfied: six>=1.5 in /usr/local/lib/python3.7/dist-packages (from python-dateutil>=2.1->matplotlib->fair) (1.15.0)\n",
            "Requirement already satisfied: pytz>=2017.3 in /usr/local/lib/python3.7/dist-packages (from pandas->fair) (2022.1)\n",
            "Installing collected packages: fair\n",
            "Successfully installed fair-1.6.4\n"
          ]
        }
      ],
      "source": [
        "!pip install fair\n",
        "import fair"
      ]
    },
    {
      "cell_type": "code",
      "execution_count": null,
      "metadata": {
        "id": "wJxE51b83Gpv"
      },
      "outputs": [],
      "source": [
        "import numpy as np\n",
        "from scipy import stats\n",
        "from fair.tools.ensemble import tcrecs_generate\n",
        "\n",
        "from matplotlib import pyplot as plt\n",
        "plt.style.use('seaborn-muted')\n",
        "plt.rcParams['figure.figsize'] = (16, 9)"
      ]
    },
    {
      "cell_type": "code",
      "source": [
        "from fair.RCPs import rcp3pd, rcp45, rcp6, rcp85\n",
        "from fair.SSPs import ssp370, ssp126, ssp585, ssp119"
      ],
      "metadata": {
        "id": "xarbiWyd3kNK"
      },
      "execution_count": null,
      "outputs": []
    },
    {
      "cell_type": "code",
      "source": [
        "#start with test simulations built on SSP3-RCP7\n",
        "ssp370.Emissions.year[257]\n",
        "g10_rf=ssp370.Emissions.emissions[:,1]*0\n",
        "g10_rf[257:287]=-60*np.exp(-np.arange(1,31,1)/6.3)\n",
        "g5_rf=ssp370.Emissions.emissions[:,1]*0\n",
        "g5_rf[257:287]=-27*np.exp(-np.arange(1,31,1)/6.3)\n",
        "g1_rf=ssp370.Emissions.emissions[:,1]*0\n",
        "g1_rf[257:287]=-6*np.exp(-np.arange(1,31,1)/6.3)"
      ],
      "metadata": {
        "id": "SJYmLH0k55Q0"
      },
      "execution_count": null,
      "outputs": []
    },
    {
      "cell_type": "code",
      "source": [
        "#function to simulate nuclear pulse given initial forcing level and decay time\n",
        "def nfn(a,t):\n",
        "  ans=ssp370.Emissions.emissions[:,1]*0\n",
        "  ans[257:307]=-a*np.exp(-np.arange(1,51,1)/t)\n",
        "  return ans"
      ],
      "metadata": {
        "id": "Mel-RWvn-XJm"
      },
      "execution_count": null,
      "outputs": []
    },
    {
      "cell_type": "code",
      "source": [
        "plt.plot(nfn(60,5))"
      ],
      "metadata": {
        "colab": {
          "base_uri": "https://localhost:8080/",
          "height": 555
        },
        "id": "U9mw5d7HlG9v",
        "outputId": "162e7b5d-0d28-481c-ffa9-e6b4abd4cc69"
      },
      "execution_count": null,
      "outputs": [
        {
          "output_type": "execute_result",
          "data": {
            "text/plain": [
              "[<matplotlib.lines.Line2D at 0x7f020ddf0710>]"
            ]
          },
          "metadata": {},
          "execution_count": 7
        },
        {
          "output_type": "display_data",
          "data": {
            "text/plain": [
              "<Figure size 1152x648 with 1 Axes>"
            ],
            "image/png": "[encoded data removed]"
          },
          "metadata": {
            "needs_background": "light"
          }
        }
      ]
    },
    {
      "cell_type": "code",
      "execution_count": null,
      "metadata": {
        "id": "OAWpRMvx3Gpz",
        "outputId": "4423b292-eab2-4fe3-ef3e-db9cba921b81",
        "colab": {
          "base_uri": "https://localhost:8080/",
          "height": 736
        }
      },
      "outputs": [
        {
          "output_type": "stream",
          "name": "stderr",
          "text": [
            "/usr/local/lib/python3.7/dist-packages/fair/gas_cycle/fair1.py:66: RuntimeWarning: overflow encountered in exp\n",
            "  iirf_arr = alp_b*(np.sum(a*tau*(1.0 - np.exp(-iirf_h/(tau*alp_b)))))\n",
            "/usr/local/lib/python3.7/dist-packages/fair/gas_cycle/fair1.py:66: RuntimeWarning: overflow encountered in exp\n",
            "  iirf_arr = alp_b*(np.sum(a*tau*(1.0 - np.exp(-iirf_h/(tau*alp_b)))))\n"
          ]
        },
        {
          "output_type": "execute_result",
          "data": {
            "text/plain": [
              "(1850.0, 2100.0)"
            ]
          },
          "metadata": {},
          "execution_count": 8
        },
        {
          "output_type": "display_data",
          "data": {
            "text/plain": [
              "<Figure size 864x792 with 4 Axes>"
            ],
            "image/png": "[encoded data removed]"
          },
          "metadata": {
            "needs_background": "light"
          }
        }
      ],
      "source": [
        "\n",
        "fig = plt.figure(figsize=(12, 11))\n",
        "ax1 = fig.add_subplot(221)\n",
        "ax2 = fig.add_subplot(222)\n",
        "ax3 = fig.add_subplot(223)\n",
        "ax4 = fig.add_subplot(224)\n",
        "#conventional SSP-RCPs\n",
        "C26, F26, T26 = fair.forward.fair_scm(emissions=ssp126.Emissions.emissions)\n",
        "ax1.plot(rcp3pd.Emissions.year, ssp126.Emissions.co2_fossil, color='green', label='SSP126')\n",
        "ax2.plot(rcp3pd.Emissions.year, C26[:, 0], color='green')\n",
        "ax3.plot(rcp3pd.Emissions.year, np.sum(F26, axis=1), color='green')\n",
        "ax4.plot(rcp3pd.Emissions.year, T26, color='green')\n",
        "\n",
        "C37, F37, T37 = fair.forward.fair_scm(emissions=ssp370.Emissions.emissions)\n",
        "ax1.plot(rcp3pd.Emissions.year, ssp370.Emissions.co2_fossil, color='black', label='SSP370')\n",
        "ax2.plot(rcp3pd.Emissions.year, C37[:, 0], color='black')\n",
        "ax3.plot(rcp3pd.Emissions.year, np.sum(F37, axis=1), color='black')\n",
        "ax4.plot(rcp3pd.Emissions.year, T37, color='black')\n",
        "\n",
        "C37g0, F37g0, T37g0 = fair.forward.fair_scm(emissions=np.sum(ssp370.Emissions.emissions[:,1:3],axis=1),other_rf=np.sum(F37[:,1:], axis=1),\n",
        "    useMultigas=False)\n",
        "ax1.plot(rcp3pd.Emissions.year, ssp370.Emissions.co2_fossil, color='y', label='SSP370_10G')\n",
        "ax2.plot(rcp3pd.Emissions.year, C37g0, color='y',linestyle=':')\n",
        "ax3.plot(rcp3pd.Emissions.year, F37g0, color='y',linestyle=':')\n",
        "ax4.plot(rcp3pd.Emissions.year, T37g0, color='y',linestyle=':')\n",
        "\n",
        "#for the nuclear simulations, we run with Mutligas off.  nonco2 radiative forcing from the baseline case is used, in addition to the nuclear pulse in the other_rf term\n",
        "#the following forcings were munually adjusted to 65 and 30Wm^-2 to match the 2 and 8k cooling seen in Robock 2007\n",
        "\n",
        "C37g150, F37g150, T37g150 = fair.forward.fair_scm(emissions=np.sum(ssp370.Emissions.emissions[:,1:3],axis=1),other_rf=nfn(65,5)+np.sum(F37[:,1:], axis=1),\n",
        "    useMultigas=False)\n",
        "ax1.plot(rcp3pd.Emissions.year, ssp370.Emissions.co2_fossil, color='darkred', label='SSP370_150')\n",
        "ax2.plot(rcp3pd.Emissions.year, C37g150, color='darkred')\n",
        "ax3.plot(rcp3pd.Emissions.year, F37g150, color='darkred')\n",
        "ax4.plot(rcp3pd.Emissions.year, T37g150, color='darkred')\n",
        "\n",
        "\n",
        "C37g50, F37g50, T37g50 = fair.forward.fair_scm(emissions=np.sum(ssp370.Emissions.emissions[:,1:3],axis=1),other_rf=nfn(30,5)+np.sum(F37[:,1:], axis=1),\n",
        "    useMultigas=False)\n",
        "ax1.plot(rcp3pd.Emissions.year, ssp370.Emissions.co2_fossil, color='darkred', label='SSP370_50')\n",
        "ax2.plot(rcp3pd.Emissions.year, C37g50, color='darkred')\n",
        "ax3.plot(rcp3pd.Emissions.year, F37g50, color='darkred')\n",
        "ax4.plot(rcp3pd.Emissions.year, T37g50, color='darkred')\n",
        "\n",
        "#this is the response to 140Wm^-2 - the 90th percentile of the distribution calculated below\n",
        "C37g300, F37g300, T37g300 = fair.forward.fair_scm(emissions=np.sum(ssp370.Emissions.emissions[:,1:3],axis=1),other_rf=nfn(140,5)+np.sum(F37[:,1:], axis=1),\n",
        "    useMultigas=False)\n",
        "ax1.plot(rcp3pd.Emissions.year, ssp370.Emissions.co2_fossil, color='darkred', label='SSP370_5')\n",
        "ax2.plot(rcp3pd.Emissions.year, C37g300, color='darkred')\n",
        "ax3.plot(rcp3pd.Emissions.year, F37g300, color='darkred')\n",
        "ax4.plot(rcp3pd.Emissions.year, T37g300, color='darkred')\n",
        "\n",
        "#this is for the smaller event\n",
        "C37g5, F37g5, T37g5 = fair.forward.fair_scm(emissions=np.sum(ssp370.Emissions.emissions[:,1:3],axis=1),other_rf=nfn(13,5)+np.sum(F37[:,1:], axis=1),\n",
        "    useMultigas=False)\n",
        "ax1.plot(rcp3pd.Emissions.year, ssp370.Emissions.co2_fossil, color='g', label='SSP370_5')\n",
        "ax2.plot(rcp3pd.Emissions.year, C37g5, color='green')\n",
        "ax3.plot(rcp3pd.Emissions.year, F37g5, color='g')\n",
        "ax4.plot(rcp3pd.Emissions.year, T37g5, color='g')\n",
        "\n",
        "#this is for the smaller event\n",
        "C37g6, F37g6, T37g6 = fair.forward.fair_scm(emissions=np.sum(ssp370.Emissions.emissions[:,1:3],axis=1),other_rf=nfn(16.5,5)+np.sum(F37[:,1:], axis=1),\n",
        "    useMultigas=False)\n",
        "ax1.plot(rcp3pd.Emissions.year, ssp370.Emissions.co2_fossil, color='g', label='SSP370_5')\n",
        "ax2.plot(rcp3pd.Emissions.year, C37g6, color='green')\n",
        "ax3.plot(rcp3pd.Emissions.year, F37g6, color='g')\n",
        "ax4.plot(rcp3pd.Emissions.year, T37g6, color='g')\n",
        "\n",
        "\n",
        "\n",
        "\n",
        "ax1.set_ylabel('Fossil CO$_2$ Emissions (GtC)')\n",
        "ax1.legend()\n",
        "ax2.set_ylabel('CO$_2$ concentrations (ppm)')\n",
        "ax3.set_ylabel('Total radiative forcing (W.m$^{-2}$)')\n",
        "ax4.set_ylabel('Temperature anomaly (K)');\n",
        "ax1.set_xlim(1850,2100)\n",
        "ax2.set_xlim(1850,2100)\n",
        "ax3.set_xlim(1850,2100)\n",
        "ax4.set_xlim(1850,2100)\n",
        "\n"
      ]
    },
    {
      "cell_type": "code",
      "source": [
        "T37g5[256]-T37g5[256:].min()\n",
        "T37g6[256]-T37g6[256:].min()\n"
      ],
      "metadata": {
        "colab": {
          "base_uri": "https://localhost:8080/"
        },
        "id": "a-iCgkgVCrU7",
        "outputId": "485cf635-26c2-41cc-c628-1c761956225b"
      },
      "execution_count": null,
      "outputs": [
        {
          "output_type": "execute_result",
          "data": {
            "text/plain": [
              "2.4160116135423317"
            ]
          },
          "metadata": {},
          "execution_count": 9
        }
      ]
    },
    {
      "cell_type": "markdown",
      "source": [
        "Create parameter sampling for both climate and nuclear parameters"
      ],
      "metadata": {
        "id": "S7bfAeKn36Kd"
      }
    },
    {
      "cell_type": "code",
      "execution_count": null,
      "metadata": {
        "id": "o_IIx4w93Gp2"
      },
      "outputs": [],
      "source": [
        "# number of prior ensemble members\n",
        "samples = 1000\n",
        "\n",
        "# generate some joint lognormal TCR and ECS pairs\n",
        "tcrecs = tcrecs_generate(n=1000, seed=38571)\n",
        "\n",
        "# generate some forcing scale factors with SD of 10% of the best estimate\n",
        "# Chris: this is over-constrained and probably just something from my example\n",
        "# Instead let's repeat what we did in FaIR 1.3 code, component by component \n",
        "# using AR5 scalings\n",
        "zscore = stats.norm.ppf(0.95)\n",
        "scales1d = np.array(\n",
        "    [\n",
        "        0.2,      # CO2\n",
        "        0.28,     # CH4: updated value from etminan 2016\n",
        "        0.2,      # N2O\n",
        "        0.2,      # other WMGHS\n",
        "        0.4-0.2,        # tropospheric O3\n",
        "        -0.05-(-0.15),  # stratospheric O3\n",
        "        0.07-0.02,      # stratospheric WV from CH4\n",
        "        1,              # contrails (lognormal)\n",
        "        0.8/0.9,  # aerosols\n",
        "        1,      # black carbon on snow (lognormal)\n",
        "        -0.15-(-0.25),  # land use change\n",
        "        1.0-0.5,        # volcanic\n",
        "        0.05\n",
        "     ]\n",
        ")/zscore # solar (additive)\n",
        "scales2d = np.repeat(scales1d[np.newaxis,:],samples,axis=0)\n",
        "\n",
        "locs = np.array([1,1,1,1,0.4,-0.05,0.07,1,1,1,-0.15,1.0,0.00])\n",
        "locs2d = np.repeat(locs[np.newaxis,:],samples,axis=0)\n",
        "\n",
        "# BC-snow and contrails are lognormal with sigma=0.5 and sigma=0.65: see page 8SM-11\n",
        "F_scale = stats.norm.rvs(size=(samples,13), loc=locs2d[:,:13], scale=scales2d[:,:13], random_state=40000)\n",
        "F_scale[:,9] = stats.lognorm.rvs(0.5, size=samples, random_state=40001)\n",
        "F_scale[:,7]  = stats.lognorm.rvs(0.65, size=samples, random_state=40002)\n",
        "\n",
        "# aerosols are asymmetric Gaussian\n",
        "F_scale[F_scale[:,8]<-0.9,8] = 1./0.8*(F_scale[F_scale[:,8]<-0.9,8]+0.9) - 0.9\n",
        "\n",
        "\n",
        "#F_scale = stats.norm.rvs(size=(samples,13), loc=1, scale=0.1, random_state=40000)\n",
        "\n",
        "# do the same for the carbon cycle parameters\n",
        "r0 = stats.norm.rvs(size=samples, loc=35, scale=3.5, random_state=41000)\n",
        "rc = stats.norm.rvs(size=samples, loc=0.019, scale=0.0019, random_state=42000)\n",
        "rt = stats.norm.rvs(size=samples, loc=4.165, scale=0.4165, random_state=45000)\n",
        "\n",
        "#now the nuclear winter parameters\n",
        "# Chris: for reproducibility I'm going to put seeds on these\n",
        "na = stats.lognorm.rvs(size=samples,s=0.603, random_state=44999)*65.\n",
        "na_small =  stats.lognorm.rvs(size=samples,s=.075, random_state=44999)*14.5\n",
        "ta = stats.norm.rvs(size=samples, loc=5, scale=0.5, random_state=45000)\n",
        "\n",
        "# use a different seed for nv\n",
        "nv=stats.norm.rvs(size=samples, loc=.22, scale=.04, random_state=45001)\n",
        "\n",
        "T = np.zeros((736,samples))"
      ]
    },
    {
      "cell_type": "code",
      "source": [
        "#90th percentile of nuclear initial forcing\n",
        "np.percentile(na,90)"
      ],
      "metadata": {
        "id": "-qjoN9angVth"
      },
      "execution_count": null,
      "outputs": []
    },
    {
      "cell_type": "code",
      "source": [
        "np.percentile(na_small,10)"
      ],
      "metadata": {
        "id": "DgGjNaNOE6pi"
      },
      "execution_count": null,
      "outputs": []
    },
    {
      "cell_type": "code",
      "execution_count": null,
      "metadata": {
        "id": "e9VgsoKD3Gp2"
      },
      "outputs": [],
      "source": [
        "#Run SSP3 basline ensemble to calibrate plausible FAIR parameters\n",
        "%%time\n",
        "for i in range(samples):\n",
        "    _, _, T[:,i] = fair.forward.fair_scm(emissions=ssp370.Emissions.emissions,\n",
        "                        r0 = r0[i],\n",
        "                        rc = rc[i],\n",
        "                        rt = rt[i],\n",
        "                        tcrecs = tcrecs[i,:],\n",
        "                        scale = F_scale[i,:],\n",
        "                        F2x = 3.71*F_scale[i,0])   # scale F2x with the CO2 scaling factor for consistency"
      ]
    },
    {
      "cell_type": "code",
      "execution_count": null,
      "metadata": {
        "id": "nnt93-xn3Gp3"
      },
      "outputs": [],
      "source": [
        "#Follow Smith et al to constrain output based on CW\n",
        "try:\n",
        "    # For Python 3.0 and later\n",
        "    from urllib.request import urlopen\n",
        "except ImportError:\n",
        "    # Fall back to Python 2's urllib2\n",
        "    from urllib2 import urlopen\n",
        "    \n",
        "from fair.tools.constrain import hist_temp\n",
        "\n",
        "# load up Cowtan and Way data remotely\n",
        "url = 'http://www-users.york.ac.uk/~kdc3/papers/coverage2013/had4_krig_annual_v2_0_0.txt'\n",
        "response = urlopen(url)\n",
        "\n",
        "CW = np.loadtxt(response)\n",
        "constrained = np.zeros(samples, dtype=bool)\n",
        "\n",
        "for i in range(samples):\n",
        "    # we use observed trend from 1880 to 2016\n",
        "    constrained[i], _, _, _, _ = hist_temp(CW[30:167,1], T[1880-1765:2017-1765,i], CW[30:167,0])\n",
        "    \n",
        "# How many ensemble members passed the constraint?\n",
        "print('%d ensemble members passed historical constraint' % np.sum(constrained))"
      ]
    },
    {
      "cell_type": "code",
      "source": [
        "# Plot constrained basaline ensemble\n",
        "fig = plt.figure()\n",
        "ax1 = fig.add_subplot(111)\n",
        "ax1.plot(rcp85.Emissions.year, T[:,constrained]);"
      ],
      "metadata": {
        "id": "T4E3u7l4MmBQ"
      },
      "execution_count": null,
      "outputs": []
    },
    {
      "cell_type": "markdown",
      "source": [
        "Run FAIR simulations for conventional and nuclear simulation"
      ],
      "metadata": {
        "id": "qcQigQm44Wgk"
      }
    },
    {
      "cell_type": "code",
      "source": [
        "nc=np.sum(constrained)\n",
        "Te37 = np.zeros((736,nc))\n",
        "Fe37 = np.zeros((736,np.shape(F37)[1],nc))\n",
        "Ce37 = np.zeros((736,np.shape(C37)[1],nc))\n",
        "Te85 = np.zeros((736,nc))\n",
        "Fe85 = np.zeros((736,np.shape(F37)[1],nc))\n",
        "Ce85 = np.zeros((736,np.shape(C37)[1],nc))\n",
        "Te26 = np.zeros((736,nc))\n",
        "Fe26 = np.zeros((736,np.shape(F37)[1],nc))\n",
        "Ce26 = np.zeros((736,np.shape(C37)[1],nc))\n",
        "Te37_10g = np.zeros((736,nc))\n",
        "Fe37_10g = np.zeros((736,nc))\n",
        "Ce37_10g = np.zeros((736,nc))\n",
        "Te37_10ge = np.zeros((736,nc))\n",
        "Fe37_10ge = np.zeros((736,nc))\n",
        "Ce37_10ge = np.zeros((736,nc))\n",
        "Te37_10gv = np.zeros((736,nc))\n",
        "Fe37_10gv = np.zeros((736,nc))\n",
        "Ce37_10gv = np.zeros((736,nc))\n",
        "Te37_1ge = np.zeros((736,nc))\n",
        "Fe37_1ge = np.zeros((736,nc))\n",
        "Ce37_1ge = np.zeros((736,nc))\n",
        "nuc_emis = np.zeros((736,nc))\n",
        "nuc_emis_reg = np.zeros((736,nc))\n",
        "\n",
        "#veg_emis = np.zeros((736,nc))\n",
        "#nuc_emisl = np.zeros((736,nc))\n",
        "#veg_emisl = np.zeros((736,nc))\n",
        "#Te37_10gl = np.zeros((736,nc))\n",
        "#Fe37_10gl = np.zeros((736,nc))\n",
        "#Ce37_10gl = np.zeros((736,nc))\n",
        "for i,j in enumerate(np.arange(1000)[constrained==True]):\n",
        "    print(i)\n",
        "    #calculate nuclear pulse for this ensemble member\n",
        "    nuc_rf=nfn(na[j],ta[j])\n",
        "    nuc_rf_reg=nfn(na_small[j],ta[j])\n",
        "    \n",
        "    #Fire emissions are scaled relative to central -60Wm-2 simulation, using the central estimate from Turco 1990 of 5GtC\n",
        "    nuc_emis[257,i]=na[j]/60*5.075\n",
        "    nuc_emis_reg[257,i]=na_small[j]/60*5.075\n",
        "    \n",
        "\n",
        " #RCP85\n",
        "    Ce85[:,:,i], Fe85[:,:,i], Te85[:,i] = fair.forward.fair_scm(emissions=ssp585.Emissions.emissions,\n",
        "                        r0 = r0[j],\n",
        "                        rc = rc[j],\n",
        "                        rt = rt[j],\n",
        "                        tcrecs = tcrecs[j,:],\n",
        "                        scale = F_scale[j,:],\n",
        "                        F2x = 3.71*F_scale[j,0])   # scale F2x with the CO2 scaling factor for consistency\n",
        "                        #RCP7-SSP3\n",
        "    Ce37[:,:,i], Fe37[:,:,i], Te37[:,i] = fair.forward.fair_scm(emissions=ssp370.Emissions.emissions,\n",
        "                        r0 = r0[j],\n",
        "                        rc = rc[j],\n",
        "                        rt = rt[j],\n",
        "                        tcrecs = tcrecs[j,:],\n",
        "                        scale = F_scale[j,:],\n",
        "                        F2x = 3.71*F_scale[j,0])  \n",
        "                       # SSP1-RCP26\n",
        "    Ce26[:,:,i], Fe26[:,:,i], Te26[:,i] = fair.forward.fair_scm(emissions=ssp126.Emissions.emissions,\n",
        "                        r0 = r0[j],\n",
        "                        rc = rc[j],\n",
        "                        rt = rt[j],\n",
        "                        tcrecs = tcrecs[j,:],\n",
        "                        scale = F_scale[j,:],\n",
        "                        F2x = 3.71*F_scale[j,0])  \n",
        "    \n",
        "                      #nuclear scenario, no fire emissions\n",
        "    Ce37_10g[:,i], Fe37_10g[:,i], Te37_10g[:,i] = fair.forward.fair_scm(emissions=np.sum(ssp370.Emissions.emissions[:,1:3],axis=1),\n",
        "                                                                other_rf=nuc_rf+np.sum(Fe37[:,1:,i], axis=1),\n",
        "                                                                useMultigas=False,\n",
        "                        r0 = r0[j],\n",
        "                        rc = rc[j],\n",
        "                        rt = rt[j],\n",
        "                        tcrecs = tcrecs[j,:],\n",
        "                        scale = F_scale[j,0],\n",
        "                        F2x = 3.71*F_scale[j,0]) \n",
        "                          #nuclear scenario, with fire emissions\n",
        "    Ce37_10ge[:,i], Fe37_10ge[:,i], Te37_10ge[:,i] = fair.forward.fair_scm(emissions=\n",
        "                                                                np.sum(ssp370.Emissions.emissions[:,1:3],axis=1)+nuc_emis[:,i],\n",
        "                                                                other_rf=nuc_rf+np.sum(Fe37[:,1:,i], axis=1),\n",
        "                                                                useMultigas=False,\n",
        "                        r0 = r0[j],\n",
        "                        rc = rc[j],\n",
        "                        rt = rt[j],\n",
        "                        tcrecs = tcrecs[j,:],\n",
        "                        scale = F_scale[j,0],\n",
        "                        F2x = 3.71*F_scale[j,0])   \n",
        "    Ce37_1ge[:,i], Fe37_1ge[:,i], Te37_1ge[:,i] = fair.forward.fair_scm(emissions=\n",
        "                                                                np.sum(ssp370.Emissions.emissions[:,1:3],axis=1)+nuc_emis_reg[:,i],\n",
        "                                                                other_rf=nuc_rf_reg+np.sum(Fe37[:,1:,i], axis=1),\n",
        "                                                                useMultigas=False,\n",
        "                        r0 = r0[j],\n",
        "                        rc = rc[j],\n",
        "                        rt = rt[j],\n",
        "                        tcrecs = tcrecs[j,:],\n",
        "                        scale = F_scale[j,0],\n",
        "                        F2x = 3.71*F_scale[j,0])   \n"
      ],
      "metadata": {
        "id": "F73z2FNYNZQ6"
      },
      "execution_count": null,
      "outputs": []
    },
    {
      "cell_type": "markdown",
      "source": [
        "Plot output"
      ],
      "metadata": {
        "id": "ynHGRtwP4eP7"
      }
    },
    {
      "cell_type": "code",
      "source": [
        "import seaborn as sns\n",
        "plt.style.use('seaborn-whitegrid')\n",
        "\n",
        "fig = plt.figure(figsize=(12, 11))\n",
        "ax1 = fig.add_subplot(221)\n",
        "ax2 = fig.add_subplot(222)\n",
        "ax3 = fig.add_subplot(223)\n",
        "ax4 = fig.add_subplot(224)\n",
        "\n",
        "\n",
        "sns.set()\n",
        "#Temperature\n",
        "ax3.fill_between(rcp85.Emissions.year, np.percentile(Te85,10,axis=1), np.percentile(Te85,90,axis=1), color='m', alpha=0.2)\n",
        "ax3.fill_between(rcp85.Emissions.year, np.percentile(Te37,10,axis=1), np.percentile(Te37,90,axis=1), color='k', alpha=0.2)\n",
        "ax3.fill_between(rcp85.Emissions.year, np.percentile(Te37_10ge,10,axis=1), np.percentile(Te37_10ge,90,axis=1), color='darkred', alpha=0.2)\n",
        "ax3.fill_between(rcp85.Emissions.year, np.percentile(Te37_1ge,10,axis=1), np.percentile(Te37_1ge,90,axis=1), color='orange', alpha=0.2)\n",
        "ax3.fill_between(rcp85.Emissions.year, np.percentile(Te26,10,axis=1), np.percentile(Te26,90,axis=1), color='g', alpha=0.2)\n",
        "\n",
        "ax3.plot(rcp85.Emissions.year, Te37_10ge.mean(axis=1), '-',color='darkred', label='SSP3-7.0-NW')\n",
        "ax3.plot(rcp85.Emissions.year, Te37_1ge.mean(axis=1), '-',color='orange', label='SSP3-7.0-RC')\n",
        "ax3.plot(rcp85.Emissions.year, Te26.mean(axis=1), '-',color='green', label='SSP1-2.6')\n",
        "ax3.plot(rcp85.Emissions.year, Te37.mean(axis=1), 'k-', label='SSP3-7.0')\n",
        "ax3.plot(rcp85.Emissions.year, Te85.mean(axis=1), 'm-', label='SSP5-8.5')\n",
        "ax3.plot(np.arange(1880,2017),CW[30:167,1]+0.35,'c', label='Cowtan/Way')\n",
        "ax3.set_title('(c)')\n",
        "\n",
        "ax3.legend(title='Scenarios')\n",
        "ax3.set_xlim(1950,2100)\n",
        "ax3.set_ylim(-25,5)\n",
        "ax3.set_ylabel('(K)')\n",
        "\n",
        "#Concentrations\n",
        "ax2.fill_between(rcp85.Emissions.year, np.percentile(Ce85[:,0,:],10,axis=1), np.percentile(Ce85[:,0,:],90,axis=1), color='m', alpha=0.2)\n",
        "ax2.fill_between(rcp85.Emissions.year, np.percentile(Ce37[:,0,:],10,axis=1), np.percentile(Ce37[:,0,:],90,axis=1), color='k', alpha=0.2)\n",
        "ax2.fill_between(rcp85.Emissions.year, np.percentile(Ce37_10ge,10,axis=1), np.percentile(Ce37_10ge,90,axis=1), color='darkred', alpha=0.2)\n",
        "ax2.fill_between(rcp85.Emissions.year, np.percentile(Ce37_1ge,10,axis=1), np.percentile(Ce37_1ge,90,axis=1), color='orange', alpha=0.2)\n",
        "ax2.fill_between(rcp85.Emissions.year, np.percentile(Ce26[:,0,:],10,axis=1), np.percentile(Ce26[:,0,:],90,axis=1), color='g', alpha=0.2)\n",
        "\n",
        "\n",
        "\n",
        "ax2.plot(rcp85.Emissions.year, Ce37_10ge.mean(axis=1), '-',color='darkred', label='SSP3-7.0-NW')\n",
        "ax2.plot(rcp85.Emissions.year, Ce37_1ge.mean(axis=1), '-',color='orange', label='SSP3-7.0-RC')\n",
        "ax2.plot(rcp85.Emissions.year, Ce37[:,0,:].mean(axis=1), 'k-', label='SSP3-7.0')\n",
        "ax2.plot(rcp85.Emissions.year, Ce85[:,0,:].mean(axis=1), 'm-', label='SSP5-8.5')\n",
        "ax2.plot(rcp85.Emissions.year, Ce26[:,0,:].mean(axis=1), '-',color='green', label='SSP1-2.6')\n",
        "\n",
        "\n",
        "ax2.legend(title='Scenarios')\n",
        "ax2.set_xlim(1950,2100)\n",
        "ax2.set_ylim(0,1000)\n",
        "ax2.set_ylabel('(ppm)')\n",
        "ax2.set_title('(b)')\n",
        "\n",
        "#Radiative Forcing\n",
        "ax1.fill_between(rcp85.Emissions.year, np.percentile(Fe85[:,:,:].sum(axis=1),10,axis=1), np.percentile(Fe85[:,:,:].sum(axis=1),90,axis=1), color='m', alpha=0.2)\n",
        "ax1.fill_between(rcp85.Emissions.year, np.percentile(Fe37[:,:,:].sum(axis=1),10,axis=1), np.percentile(Fe37[:,:,:].sum(axis=1),90,axis=1), color='k', alpha=0.2)\n",
        "ax1.fill_between(rcp85.Emissions.year, np.percentile(Fe37_10ge,10,axis=1), np.percentile(Fe37_10ge,90,axis=1), color='darkred', alpha=0.2)\n",
        "ax1.fill_between(rcp85.Emissions.year, np.percentile(Fe37_1ge,10,axis=1), np.percentile(Fe37_1ge,90,axis=1), color='orange', alpha=0.2)\n",
        "ax1.fill_between(rcp85.Emissions.year, np.percentile(Fe26[:,:,:].sum(axis=1),10,axis=1), np.percentile(Fe26[:,:,:].sum(axis=1),90,axis=1), color='g', alpha=0.2)\n",
        "\n",
        "\n",
        "ax1.plot(rcp85.Emissions.year, Fe85[:,:,:].mean(axis=2).sum(axis=1), 'm-', label='SSP5-8.5')\n",
        "ax1.plot(rcp85.Emissions.year, Fe26[:,:,:].mean(axis=2).sum(axis=1), 'g-', label='SSP1-2.6')\n",
        "ax1.plot(rcp85.Emissions.year, Fe37[:,:,:].mean(axis=2).sum(axis=1), 'm-', label='SSP3-7.0')\n",
        "ax1.plot(rcp85.Emissions.year, Fe37_10ge.mean(axis=1), '-',color='darkred', label='SSP3-7.0-NW')\n",
        "ax1.plot(rcp85.Emissions.year, Fe37_1ge.mean(axis=1), '-',color='orange', label='SSP3-7.0-RC')\n",
        "\n",
        "\n",
        "ax1.set_title('(a)')\n",
        "ax1.legend(title='Scenarios')\n",
        "ax1.set_xlim(1950,2100)\n",
        "ax1.set_ylim(-120,20)\n",
        "ax1.set_ylabel(r'($Wm^{-2}$)')\n",
        "\n",
        "\n",
        "\n",
        "#carbon emissions assessed from difference with baseline\n",
        "dc_10=np.diff(Ce37_10ge-Ce37[:,0,:],axis=0)*2.13\n",
        "dc_1=np.diff(Ce37_1ge-Ce37[:,0,:],axis=0)*2.13\n",
        "\n",
        "\n",
        "ax4.fill_between(rcp85.Emissions.year[1:], np.percentile(dc_10,10,axis=1), np.percentile(dc_10,90,axis=1), color='darkred', alpha=0.2)\n",
        "ax4.fill_between(rcp85.Emissions.year[1:], np.percentile(dc_1,10,axis=1), np.percentile(dc_1,90,axis=1), color='orange', alpha=0.2)\n",
        "\n",
        "#ax4.fill_between(rcp85.Emissions.year[:], np.percentile(nuc_emis,10,axis=1), np.percentile(nuc_emis,90,axis=1), color='black', alpha=0.2)\n",
        "#ax4.fill_between(rcp85.Emissions.year[:], np.percentile(nuc_emis,10,axis=1), np.percentile(nuc_emis,90,axis=1), color='black', alpha=0.2)\n",
        "\n",
        "\n",
        "ax4.plot(rcp85.Emissions.year[1:],  np.mean(dc_10,axis=1), '-',color='darkred', label='Ecosystem response (NW)')\n",
        "ax4.plot(rcp85.Emissions.year[1:],  np.mean(dc_1,axis=1), '-',color='orange', label='Ecosystem response (RC)')\n",
        "\n",
        "ax4.plot(rcp85.Emissions.year[257],  np.mean(nuc_emis[257,:]), 'o',markerfacecolor='darkred',markeredgecolor='black',  label='Fire emissions (NW)')\n",
        "ax4.plot(rcp85.Emissions.year[257],  np.mean(nuc_emis_reg[257,:]), 'o',markerfacecolor='orange',markeredgecolor='black',  label='Fire emissions (RC)')\n",
        "ax4.plot([rcp85.Emissions.year[257],rcp85.Emissions.year[257]],  np.percentile(nuc_emis[257,:],[10,90]), '-',color='darkred')\n",
        "\n",
        "\n",
        "ax4.set_title('(d)')\n",
        "\n",
        "ax4.legend(title=r'CO$_2$ fluxes to atmosphere')\n",
        "ax4.set_xlim(1950,2100)\n",
        "ax4.set_ylim(-200,50)\n",
        "ax4.set_ylabel(r'($GtC$)')"
      ],
      "metadata": {
        "id": "Gvc9aq0xVCFz"
      },
      "execution_count": null,
      "outputs": []
    },
    {
      "cell_type": "code",
      "source": [
        "np.percentile(nuc_emis_reg[257,:],[10,50,90])\n"
      ],
      "metadata": {
        "id": "3JCq8VJgZjOE"
      },
      "execution_count": null,
      "outputs": []
    },
    {
      "cell_type": "code",
      "source": [
        "np.percentile(nuc_emis[257,:],[10,50,90])\n"
      ],
      "metadata": {
        "id": "o1-vcICzQ9Pj"
      },
      "execution_count": null,
      "outputs": []
    }
  ],
  "metadata": {
    "kernelspec": {
      "display_name": "Python 2",
      "language": "python",
      "name": "python2"
    },
    "language_info": {
      "codemirror_mode": {
        "name": "ipython",
        "version": 3
      },
      "file_extension": ".py",
      "mimetype": "text/x-python",
      "name": "python",
      "nbconvert_exporter": "python",
      "pygments_lexer": "ipython3",
      "version": "3.7.7"
    },
    "colab": {
      "name": "FAIR nuclear.ipynb",
      "provenance": [],
      "include_colab_link": true
    }
  },
  "nbformat": 4,
  "nbformat_minor": 0
}